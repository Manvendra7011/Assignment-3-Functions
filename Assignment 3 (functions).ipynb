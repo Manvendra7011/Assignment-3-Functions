{
 "cells": [
  {
   "cell_type": "markdown",
   "id": "f60fc1b8-2211-4afa-b50e-95fb2c34ba74",
   "metadata": {},
   "source": [
    "Question 1. What is the difference between a function and a method in Python?\n",
    "Answer:\n",
    "A function in Python is a block of reusable code that can be called independently. A method, on the other hand, is similar to a function but it is associated with an object or a class and usually operates on data contained within that object.\n",
    "\n",
    "Question 2. Explain the concept of function arguments and parameters in Python.\n",
    "Answer:\n",
    "Parameters are the variable names that are defined in the function header, while arguments are the actual values that are passed into the function when it is called. Parameters act as placeholders and arguments provide the real data.\n",
    "\n",
    "Question 3. What are the different ways to define and call a function in Python?\n",
    "Answer:\n",
    "Functions in Python can be defined in different ways. The most common way is using the def keyword to create a normal function. Functions can also be defined as lambda or anonymous functions which are typically short one-line definitions. Another way is through recursive functions, where the function calls itself.\n",
    "\n",
    "Question 4. What is the purpose of the return statement in a Python function?\n",
    "Answer:\n",
    "The return statement is used to send a value from the function back to the caller. It ends the execution of the function and passes the result. If no return statement is used, the function returns None by default.\n",
    "\n",
    "Question 5. What are iterators in Python and how do they differ from iterables?\n",
    "Answer:\n",
    "An iterable is an object that can return an iterator, for example lists, tuples, and strings. An iterator is an object that actually performs the iteration and produces one element at a time using the special methods iter and next. Iterables can be looped over, while iterators keep track of the current state of iteration.\n",
    "\n",
    "Question 6. Explain the concept of generators in Python and how they are defined.\n",
    "Answer:\n",
    "A generator in Python is a special type of iterator that is defined using the yield keyword inside a function. Unlike normal functions which return values all at once, generators yield values one by one and resume from where they left off.\n",
    "\n",
    "Question 7. What are the advantages of using generators over regular functions?\n",
    "Answer:\n",
    "Generators are memory efficient because they produce values lazily, one at a time, instead of storing the entire sequence in memory. They are faster for handling large datasets and are suitable for representing infinite sequences since values are generated only when needed.\n",
    "\n",
    "Question 8. What is a lambda function in Python and when is it typically used?\n",
    "Answer:\n",
    "A lambda function is an anonymous or unnamed function created using the lambda keyword. It is typically used for short, simple operations where a full function definition would be unnecessary, often in combination with functions like map, filter, or sorted.\n",
    "\n",
    "Question 9. Explain the purpose and usage of the map() function in Python.\n",
    "Answer:\n",
    "The map function is used to apply a given function to each element of an iterable and returns an iterator of the results. It allows transformations of entire collections without the need for explicit loops.\n",
    "\n",
    "Question 10. What is the difference between map(), reduce(), and filter() functions in Python?\n",
    "Answer:\n",
    "The map function applies a given function to every element in an iterable and returns a new iterable of the transformed values. The filter function applies a condition and returns only those elements that satisfy the condition. The reduce function applies a function cumulatively to elements of an iterable in order to reduce it to a single value, such as summing all numbers in a list.\n",
    "\n"
   ]
  },
  {
   "cell_type": "code",
   "execution_count": 1,
   "id": "a5fda779-979e-4278-ba7b-1994ac7c325f",
   "metadata": {},
   "outputs": [
    {
     "name": "stdout",
     "output_type": "stream",
     "text": [
      "12\n"
     ]
    }
   ],
   "source": [
    "# Question 1. Write a Python function that takes a list of numbers as input and returns the sum of all even numbers in the list.\n",
    "def sum_even_numbers(numbers):\n",
    "    return sum(num for num in numbers if num % 2 == 0)\n",
    "\n",
    "print(sum_even_numbers([1, 2, 3, 4, 5, 6]))\n"
   ]
  },
  {
   "cell_type": "code",
   "execution_count": 2,
   "id": "e2c24677-072c-4f7b-8adf-adebf9773c51",
   "metadata": {},
   "outputs": [
    {
     "name": "stdout",
     "output_type": "stream",
     "text": [
      "olleh\n"
     ]
    }
   ],
   "source": [
    "# Question 2. Create a Python function that accepts a string and returns the reverse of that string.\n",
    "def reverse_string(s):\n",
    "    return s[::-1]\n",
    "\n",
    "print(reverse_string(\"hello\"))\n"
   ]
  },
  {
   "cell_type": "code",
   "execution_count": 3,
   "id": "5dc580a5-de3b-4305-a0e4-fbfadf3bf962",
   "metadata": {},
   "outputs": [
    {
     "name": "stdout",
     "output_type": "stream",
     "text": [
      "[1, 4, 9, 16]\n"
     ]
    }
   ],
   "source": [
    "# Question 3. Implement a Python function that takes a list of integers and returns a new list containing the squares of each number.\n",
    "def squares_list(numbers):\n",
    "    return [num**2 for num in numbers]\n",
    "\n",
    "print(squares_list([1, 2, 3, 4]))\n"
   ]
  },
  {
   "cell_type": "code",
   "execution_count": 5,
   "id": "394aa408-2406-4953-9841-cbd929b65525",
   "metadata": {},
   "outputs": [
    {
     "name": "stdout",
     "output_type": "stream",
     "text": [
      "[2, 3, 5, 7, 11, 13, 17, 19, 23, 29, 31, 37, 41, 43, 47, 53, 59, 61, 67, 71, 73, 79, 83, 89, 97, 101, 103, 107, 109, 113, 127, 131, 137, 139, 149, 151, 157, 163, 167, 173, 179, 181, 191, 193, 197, 199]\n"
     ]
    }
   ],
   "source": [
    "# Question 4. Write a Python function that checks if a given number is prime or not from 1 to 200.\n",
    "def is_prime(n):\n",
    "    if n <= 1:\n",
    "        return False\n",
    "    for i in range(2, int(n**0.5) + 1):\n",
    "        if n % i == 0:\n",
    "            return False\n",
    "    return True\n",
    "\n",
    "primes = []\n",
    "for n in range(1, 201):\n",
    "    if is_prime(n):\n",
    "        primes.append(n)\n",
    "\n",
    "print(primes)\n"
   ]
  },
  {
   "cell_type": "code",
   "execution_count": 6,
   "id": "9941b8da-d269-4dc7-840e-433344bce647",
   "metadata": {},
   "outputs": [
    {
     "name": "stdout",
     "output_type": "stream",
     "text": [
      "0 1 1 2 3 5 8 13 21 34 "
     ]
    }
   ],
   "source": [
    "# Question 5. Create an iterator class in Python that generates the Fibonacci sequence up to a specified number of terms.\n",
    "class FibonacciIterator:\n",
    "    def __init__(self, n_terms):\n",
    "        self.n_terms = n_terms\n",
    "        self.count = 0\n",
    "        self.a, self.b = 0, 1\n",
    "\n",
    "    def __iter__(self):\n",
    "        return self\n",
    "\n",
    "    def __next__(self):\n",
    "        if self.count < self.n_terms:\n",
    "            result = self.a\n",
    "            self.a, self.b = self.b, self.a + self.b\n",
    "            self.count += 1\n",
    "            return result\n",
    "        else:\n",
    "            raise StopIteration\n",
    "\n",
    "for num in FibonacciIterator(10):\n",
    "    print(num, end=\" \")\n"
   ]
  },
  {
   "cell_type": "code",
   "execution_count": 7,
   "id": "abe8e368-0cc4-4bee-9f93-fedb3454908f",
   "metadata": {},
   "outputs": [
    {
     "name": "stdout",
     "output_type": "stream",
     "text": [
      "1 2 4 8 16 32 "
     ]
    }
   ],
   "source": [
    "# Question 6. Write a generator function in Python that yields the powers of 2 up to a given exponent.\n",
    "def powers_of_two(n):\n",
    "    for i in range(n+1):\n",
    "        yield 2**i\n",
    "\n",
    "for val in powers_of_two(5):\n",
    "    print(val, end=\" \")\n"
   ]
  },
  {
   "cell_type": "code",
   "execution_count": 10,
   "id": "219e2ebc-2de3-42ea-8906-4c2256ab34c6",
   "metadata": {},
   "outputs": [],
   "source": [
    "# Question 7. Implement a generator function that reads a file line by line and yields each line as a string.\n",
    "def read_file_lines(filename):\n",
    "    with open(filename, \"r\") as file:\n",
    "        for line in file:\n",
    "            yield line.strip()\n",
    "\n",
    "# for line in read_file_lines(\"sample.txt\"):\n",
    "#     print(line)\n"
   ]
  },
  {
   "cell_type": "code",
   "execution_count": 11,
   "id": "57ecfc8b-10b6-4747-bec2-c4347b6239bc",
   "metadata": {},
   "outputs": [
    {
     "name": "stdout",
     "output_type": "stream",
     "text": [
      "[(2, 1), (4, 2), (1, 3)]\n"
     ]
    }
   ],
   "source": [
    "# Question 8. Use a lambda function in Python to sort a list of tuples based on the second element of each tuple.\n",
    "data = [(1, 3), (2, 1), (4, 2)]\n",
    "sorted_data = sorted(data, key=lambda x: x[1])\n",
    "print(sorted_data)\n"
   ]
  },
  {
   "cell_type": "code",
   "execution_count": 12,
   "id": "bce67931-d9e8-416f-acfb-dce3186a2f42",
   "metadata": {},
   "outputs": [
    {
     "name": "stdout",
     "output_type": "stream",
     "text": [
      "[32.0, 68.0, 86.0, 104.0]\n"
     ]
    }
   ],
   "source": [
    "# Question 9. Write a Python program that uses map() to convert a list of temperatures from Celsius to Fahrenheit.\n",
    "temps_celsius = [0, 20, 30, 40]\n",
    "temps_fahrenheit = list(map(lambda c: (c * 9/5) + 32, temps_celsius))\n",
    "print(temps_fahrenheit)\n"
   ]
  },
  {
   "cell_type": "code",
   "execution_count": 13,
   "id": "503f5b12-6b11-421b-92c7-dd20c05b572c",
   "metadata": {},
   "outputs": [
    {
     "name": "stdout",
     "output_type": "stream",
     "text": [
      "Hll Wrld\n"
     ]
    }
   ],
   "source": [
    "# Question 10. Create a Python program that uses filter() to remove all the vowels from a given string.\n",
    "def remove_vowels(s):\n",
    "    vowels = \"aeiouAEIOU\"\n",
    "    return \"\".join(filter(lambda ch: ch not in vowels, s))\n",
    "\n",
    "print(remove_vowels(\"Hello World\"))\n"
   ]
  },
  {
   "cell_type": "code",
   "execution_count": 1,
   "id": "0a6f92c7-88d8-4cab-8709-5a253bf04759",
   "metadata": {},
   "outputs": [
    {
     "name": "stdout",
     "output_type": "stream",
     "text": [
      "[(34587, 163.8), (98762, 284.0), (77226, 108.85000000000001), (88112, 84.97)]\n"
     ]
    }
   ],
   "source": [
    "#Question 11:\n",
    "\n",
    "orders = [\n",
    "    [34587, \"Learning Python, Mark Lutz\", 4, 40.95],\n",
    "    [98762, \"Programming Python, Mark Lutz\", 5, 56.80],\n",
    "    [77226, \"Head First Python, Paul Barry\", 3, 32.95],\n",
    "    [88112, \"Einführung in Python3, Bernd Klein\", 3, 24.99]\n",
    "]\n",
    "\n",
    "result = list(map(lambda order: (\n",
    "    order[0], \n",
    "    order[2] * order[3] if order[2] * order[3] >= 100 else order[2] * order[3] + 10\n",
    "), orders))\n",
    "\n",
    "print(result)\n"
   ]
  },
  {
   "cell_type": "code",
   "execution_count": null,
   "id": "d0475634-c299-4d90-b346-d77a06d2c81f",
   "metadata": {},
   "outputs": [],
   "source": []
  }
 ],
 "metadata": {
  "kernelspec": {
   "display_name": "Python 3 (ipykernel)",
   "language": "python",
   "name": "python3"
  },
  "language_info": {
   "codemirror_mode": {
    "name": "ipython",
    "version": 3
   },
   "file_extension": ".py",
   "mimetype": "text/x-python",
   "name": "python",
   "nbconvert_exporter": "python",
   "pygments_lexer": "ipython3",
   "version": "3.12.5"
  }
 },
 "nbformat": 4,
 "nbformat_minor": 5
}
